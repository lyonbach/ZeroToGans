{
 "cells": [
  {
   "attachments": {},
   "cell_type": "markdown",
   "metadata": {},
   "source": [
    "##### LINK TO THE VIDEO:\n",
    "https://www.youtube.com/watch?v=m_tkL7DufPk&list=PLyMom0n-MBroupZiLfVSZqK5asX8KfoHL&index=2\n"
   ]
  },
  {
   "cell_type": "code",
   "execution_count": null,
   "metadata": {},
   "outputs": [],
   "source": [
    "import numpy as np\n",
    "import torch"
   ]
  },
  {
   "cell_type": "code",
   "execution_count": null,
   "metadata": {},
   "outputs": [],
   "source": [
    "# Inputs : Humidty, temperature and rainfall values respectively, independent from their units.\n",
    "# Targets: Yield of apples and oranges in tonnes respectively.\n",
    "INPUTS = [\n",
    "    [73, 67, 43],\n",
    "    [94, 88, 64],\n",
    "    [87, 134, 58],\n",
    "    [102, 43, 27],\n",
    "    [69, 96, 70]\n",
    "]\n",
    "TARGETS = [\n",
    "    [56, 70],\n",
    "    [81, 101],\n",
    "    [119, 133],\n",
    "    [22, 37],\n",
    "    [103, 119],\n",
    "]"
   ]
  },
  {
   "attachments": {},
   "cell_type": "markdown",
   "metadata": {},
   "source": [
    "#### Training The Model\n",
    "1. Generate Predictions\n",
    "2. Calculate The Loss\n",
    "3. Compute The Gradients\n",
    "4. Adjust Weights\n",
    "5. Reset Gradients"
   ]
  },
  {
   "cell_type": "code",
   "execution_count": null,
   "metadata": {},
   "outputs": [],
   "source": [
    "def model(x: torch.Tensor, w: torch.Tensor, b: torch.Tensor):\n",
    "    return x @ w.t() + b\n",
    "\n",
    "def mse_loss(preds, targets):\n",
    "    diff = targets - preds\n",
    "    return torch.sum(diff * diff) / diff.numel()\n",
    "\n",
    "def train(targets, weights, biases, epochs):\n",
    "\n",
    "    print(\"Training...\")\n",
    "    print(f\"Epochs: {epochs}\")\n",
    "\n",
    "    for _ in range(epochs):\n",
    "\n",
    "        # Predict\n",
    "        preds = model(inputs, weights, biases)\n",
    "\n",
    "        # Calculate the loss\n",
    "        loss = mse_loss(preds, targets)\n",
    "\n",
    "        # Derive loss\n",
    "        loss.backward()\n",
    "        \n",
    "        # Adjust weights and biases\n",
    "        with torch.no_grad():\n",
    "            weights -= weights.grad * 1e-5      \n",
    "            biases -= biases.grad * 1e-5\n",
    "\n",
    "        # Reset weight and bias gradients\n",
    "        weights.grad.zero_()\n",
    "        biases.grad.zero_()\n",
    "\n",
    "epochs = 100000\n",
    "\n",
    "inputs = torch.from_numpy(np.array(INPUTS, dtype=np.float32))\n",
    "targets = torch.from_numpy(np.array(TARGETS, dtype=np.float32))\n",
    "\n",
    "weights = torch.randn(2, 3, requires_grad=True)\n",
    "biases = torch.randn(2, requires_grad=True)\n",
    "\n"
   ]
  },
  {
   "cell_type": "code",
   "execution_count": null,
   "metadata": {},
   "outputs": [],
   "source": [
    "# Initial Predictions\n",
    "preds = model(inputs, weights, biases)  # Predict\n",
    "print(\"Initial predictions:\")\n",
    "print(preds)"
   ]
  },
  {
   "cell_type": "code",
   "execution_count": null,
   "metadata": {},
   "outputs": [],
   "source": [
    "train(targets, weights, biases, epochs)"
   ]
  },
  {
   "cell_type": "code",
   "execution_count": null,
   "metadata": {},
   "outputs": [],
   "source": [
    "# Predictions After Training - Comparison To The Target\n",
    "preds = model(inputs, weights, biases)  # Predict\n",
    "print(\"Predictions after training:\")\n",
    "print(preds)\n",
    "print(\"Real values:\")\n",
    "print(targets)"
   ]
  }
 ],
 "metadata": {
  "kernelspec": {
   "display_name": "interpreter",
   "language": "python",
   "name": "python3"
  },
  "language_info": {
   "codemirror_mode": {
    "name": "ipython",
    "version": 3
   },
   "file_extension": ".py",
   "mimetype": "text/x-python",
   "name": "python",
   "nbconvert_exporter": "python",
   "pygments_lexer": "ipython3",
   "version": "3.10.6"
  },
  "orig_nbformat": 4
 },
 "nbformat": 4,
 "nbformat_minor": 2
}

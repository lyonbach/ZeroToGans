{
 "cells": [
  {
   "attachments": {},
   "cell_type": "markdown",
   "metadata": {},
   "source": [
    "#### Linear Regression Using Pytorch Builtins"
   ]
  },
  {
   "cell_type": "code",
   "execution_count": null,
   "metadata": {},
   "outputs": [],
   "source": [
    "import numpy as np\n",
    "import torch\n",
    "from torch import nn\n",
    "import torch.nn.functional as F\n",
    "from torch.utils.data import TensorDataset, DataLoader"
   ]
  },
  {
   "cell_type": "code",
   "execution_count": null,
   "metadata": {},
   "outputs": [],
   "source": [
    "inputs = np.array([\n",
    "    [73, 67, 43],\n",
    "    [91, 88, 64],\n",
    "    [87, 134, 58],\n",
    "    [102, 43, 37],\n",
    "    [69, 96, 70],\n",
    "    [74, 66, 43],\n",
    "    [91, 87, 65],\n",
    "    [88, 134, 59],\n",
    "    [101, 44, 37],\n",
    "    [68, 96, 71],\n",
    "    [73, 66, 44],\n",
    "    [92, 87, 64],\n",
    "    [87, 135, 57],\n",
    "    [103, 43, 36],\n",
    "    [68, 97, 70],\n",
    "], dtype=np.float32)\n",
    "\n",
    "targets = np.array([\n",
    "    [56, 70],\n",
    "    [81, 101],\n",
    "    [119, 133],\n",
    "    [22, 37],\n",
    "    [103, 119],\n",
    "    [57, 69],\n",
    "    [80, 102],\n",
    "    [118, 132],\n",
    "    [21, 38],\n",
    "    [104, 118],\n",
    "    [57, 69],\n",
    "    [82, 100],\n",
    "    [118, 134],\n",
    "    [20, 38],\n",
    "    [102, 120]\n",
    "    ], dtype=np.float32)"
   ]
  },
  {
   "cell_type": "code",
   "execution_count": null,
   "metadata": {},
   "outputs": [],
   "source": [
    "# Training the model\n",
    "def train(epochs, model, loss_fn, optimizer, train_dl):\n",
    "\n",
    "    # Repeat\n",
    "    for epoch in range(epochs):\n",
    "\n",
    "        # For each batch\n",
    "        for xb, yb in train_dl:\n",
    "\n",
    "            preds = model(xb)\n",
    "            loss = loss_fn(preds, yb)\n",
    "            loss.backward()  # Derivetive\n",
    "            optimizer.step()  # Update parameters (Our optimizer is stochastic gradient descent)\n",
    "            optimizer.zero_grad()  # Reset gradients\n",
    "\n",
    "        # Printing progress on each tenth number of epochs\n",
    "        if (epoch + 1) % 10 == 0:\n",
    "            print(f\"Epoch:[{epoch + 1}/{epochs}] Loss:{loss}\")"
   ]
  },
  {
   "cell_type": "code",
   "execution_count": null,
   "metadata": {},
   "outputs": [],
   "source": [
    "inputs = torch.from_numpy(inputs)\n",
    "targets = torch.from_numpy(targets)"
   ]
  },
  {
   "cell_type": "code",
   "execution_count": null,
   "metadata": {},
   "outputs": [],
   "source": [
    "train_ds = TensorDataset(inputs, targets)\n",
    "batch_size = 5\n",
    "train_dl = DataLoader(train_ds, batch_size, shuffle=True)\n",
    "\n",
    "model = nn.Linear(3, 2)\n",
    "optimizer = torch.optim.SGD(model.parameters(), lr=1e-5)\n",
    "loss_fn = F.mse_loss\n",
    "\n",
    "train(10000, model, loss_fn, optimizer, train_dl)"
   ]
  },
  {
   "cell_type": "code",
   "execution_count": null,
   "metadata": {},
   "outputs": [],
   "source": [
    "preds = model(inputs)\n",
    "print(preds)\n",
    "print(targets)"
   ]
  }
 ],
 "metadata": {
  "kernelspec": {
   "display_name": "interpreter",
   "language": "python",
   "name": "python3"
  },
  "language_info": {
   "codemirror_mode": {
    "name": "ipython",
    "version": 3
   },
   "file_extension": ".py",
   "mimetype": "text/x-python",
   "name": "python",
   "nbconvert_exporter": "python",
   "pygments_lexer": "ipython3",
   "version": "3.10.6"
  },
  "orig_nbformat": 4
 },
 "nbformat": 4,
 "nbformat_minor": 2
}
